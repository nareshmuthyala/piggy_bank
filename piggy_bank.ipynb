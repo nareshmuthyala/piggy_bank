{
 "cells": [
  {
   "cell_type": "code",
   "execution_count": 1,
   "metadata": {},
   "outputs": [
    {
     "name": "stdout",
     "output_type": "stream",
     "text": [
      "Start or End : Start\n",
      "\n",
      "Add, Withdraw or Check : Add\n",
      "\n",
      "Add amount : 1000\n",
      "After adding, your updated balance is 1000.0 rupees\n",
      "Start or End : Start\n",
      "\n",
      "Add, Withdraw or Check : Withdraw\n",
      "\n",
      "Withdraw amount : 300\n",
      "After withdrawing, balance amount is 700.0 rupees\n",
      "Start or End : Start\n",
      "\n",
      "Add, Withdraw or Check : Check\n",
      "\n",
      "Your current balance is 700.0 rupees.\n",
      "Start or End : End\n",
      "\n"
     ]
    }
   ],
   "source": [
    "import piggy_bank"
   ]
  }
 ],
 "metadata": {
  "kernelspec": {
   "display_name": "Python 3",
   "language": "python",
   "name": "python3"
  },
  "language_info": {
   "codemirror_mode": {
    "name": "ipython",
    "version": 3
   },
   "file_extension": ".py",
   "mimetype": "text/x-python",
   "name": "python",
   "nbconvert_exporter": "python",
   "pygments_lexer": "ipython3",
   "version": "3.7.3"
  }
 },
 "nbformat": 4,
 "nbformat_minor": 2
}
